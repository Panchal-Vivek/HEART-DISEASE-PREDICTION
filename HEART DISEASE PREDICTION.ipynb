{
 "cells": [
  {
   "cell_type": "code",
   "execution_count": 1,
   "id": "e42e4181",
   "metadata": {},
   "outputs": [],
   "source": [
    "import pandas as pd\n",
    "import numpy as np\n",
    "from sklearn.model_selection import train_test_split\n",
    "from sklearn.preprocessing import StandardScaler\n",
    "from sklearn.linear_model import LogisticRegression\n",
    "from sklearn.metrics import accuracy_score, classification_report, confusion_matrix\n"
   ]
  },
  {
   "cell_type": "code",
   "execution_count": 2,
   "id": "78197e82",
   "metadata": {},
   "outputs": [],
   "source": [
    "df = pd.read_csv('Heart_Disease_Prediction.csv')"
   ]
  },
  {
   "cell_type": "code",
   "execution_count": 4,
   "id": "a26c0905",
   "metadata": {},
   "outputs": [
    {
     "data": {
      "text/html": [
       "<div>\n",
       "<style scoped>\n",
       "    .dataframe tbody tr th:only-of-type {\n",
       "        vertical-align: middle;\n",
       "    }\n",
       "\n",
       "    .dataframe tbody tr th {\n",
       "        vertical-align: top;\n",
       "    }\n",
       "\n",
       "    .dataframe thead th {\n",
       "        text-align: right;\n",
       "    }\n",
       "</style>\n",
       "<table border=\"1\" class=\"dataframe\">\n",
       "  <thead>\n",
       "    <tr style=\"text-align: right;\">\n",
       "      <th></th>\n",
       "      <th>Age</th>\n",
       "      <th>Sex</th>\n",
       "      <th>Chest pain type</th>\n",
       "      <th>BP</th>\n",
       "      <th>Cholesterol</th>\n",
       "      <th>FBS over 120</th>\n",
       "      <th>EKG results</th>\n",
       "      <th>Max HR</th>\n",
       "      <th>Exercise angina</th>\n",
       "      <th>ST depression</th>\n",
       "      <th>Slope of ST</th>\n",
       "      <th>Number of vessels fluro</th>\n",
       "      <th>Thallium</th>\n",
       "      <th>Heart Disease</th>\n",
       "    </tr>\n",
       "  </thead>\n",
       "  <tbody>\n",
       "    <tr>\n",
       "      <th>0</th>\n",
       "      <td>70</td>\n",
       "      <td>1</td>\n",
       "      <td>4</td>\n",
       "      <td>130</td>\n",
       "      <td>322</td>\n",
       "      <td>0</td>\n",
       "      <td>2</td>\n",
       "      <td>109</td>\n",
       "      <td>0</td>\n",
       "      <td>2.4</td>\n",
       "      <td>2</td>\n",
       "      <td>3</td>\n",
       "      <td>3</td>\n",
       "      <td>Presence</td>\n",
       "    </tr>\n",
       "    <tr>\n",
       "      <th>1</th>\n",
       "      <td>67</td>\n",
       "      <td>0</td>\n",
       "      <td>3</td>\n",
       "      <td>115</td>\n",
       "      <td>564</td>\n",
       "      <td>0</td>\n",
       "      <td>2</td>\n",
       "      <td>160</td>\n",
       "      <td>0</td>\n",
       "      <td>1.6</td>\n",
       "      <td>2</td>\n",
       "      <td>0</td>\n",
       "      <td>7</td>\n",
       "      <td>Absence</td>\n",
       "    </tr>\n",
       "    <tr>\n",
       "      <th>2</th>\n",
       "      <td>57</td>\n",
       "      <td>1</td>\n",
       "      <td>2</td>\n",
       "      <td>124</td>\n",
       "      <td>261</td>\n",
       "      <td>0</td>\n",
       "      <td>0</td>\n",
       "      <td>141</td>\n",
       "      <td>0</td>\n",
       "      <td>0.3</td>\n",
       "      <td>1</td>\n",
       "      <td>0</td>\n",
       "      <td>7</td>\n",
       "      <td>Presence</td>\n",
       "    </tr>\n",
       "    <tr>\n",
       "      <th>3</th>\n",
       "      <td>64</td>\n",
       "      <td>1</td>\n",
       "      <td>4</td>\n",
       "      <td>128</td>\n",
       "      <td>263</td>\n",
       "      <td>0</td>\n",
       "      <td>0</td>\n",
       "      <td>105</td>\n",
       "      <td>1</td>\n",
       "      <td>0.2</td>\n",
       "      <td>2</td>\n",
       "      <td>1</td>\n",
       "      <td>7</td>\n",
       "      <td>Absence</td>\n",
       "    </tr>\n",
       "    <tr>\n",
       "      <th>4</th>\n",
       "      <td>74</td>\n",
       "      <td>0</td>\n",
       "      <td>2</td>\n",
       "      <td>120</td>\n",
       "      <td>269</td>\n",
       "      <td>0</td>\n",
       "      <td>2</td>\n",
       "      <td>121</td>\n",
       "      <td>1</td>\n",
       "      <td>0.2</td>\n",
       "      <td>1</td>\n",
       "      <td>1</td>\n",
       "      <td>3</td>\n",
       "      <td>Absence</td>\n",
       "    </tr>\n",
       "    <tr>\n",
       "      <th>...</th>\n",
       "      <td>...</td>\n",
       "      <td>...</td>\n",
       "      <td>...</td>\n",
       "      <td>...</td>\n",
       "      <td>...</td>\n",
       "      <td>...</td>\n",
       "      <td>...</td>\n",
       "      <td>...</td>\n",
       "      <td>...</td>\n",
       "      <td>...</td>\n",
       "      <td>...</td>\n",
       "      <td>...</td>\n",
       "      <td>...</td>\n",
       "      <td>...</td>\n",
       "    </tr>\n",
       "    <tr>\n",
       "      <th>265</th>\n",
       "      <td>52</td>\n",
       "      <td>1</td>\n",
       "      <td>3</td>\n",
       "      <td>172</td>\n",
       "      <td>199</td>\n",
       "      <td>1</td>\n",
       "      <td>0</td>\n",
       "      <td>162</td>\n",
       "      <td>0</td>\n",
       "      <td>0.5</td>\n",
       "      <td>1</td>\n",
       "      <td>0</td>\n",
       "      <td>7</td>\n",
       "      <td>Absence</td>\n",
       "    </tr>\n",
       "    <tr>\n",
       "      <th>266</th>\n",
       "      <td>44</td>\n",
       "      <td>1</td>\n",
       "      <td>2</td>\n",
       "      <td>120</td>\n",
       "      <td>263</td>\n",
       "      <td>0</td>\n",
       "      <td>0</td>\n",
       "      <td>173</td>\n",
       "      <td>0</td>\n",
       "      <td>0.0</td>\n",
       "      <td>1</td>\n",
       "      <td>0</td>\n",
       "      <td>7</td>\n",
       "      <td>Absence</td>\n",
       "    </tr>\n",
       "    <tr>\n",
       "      <th>267</th>\n",
       "      <td>56</td>\n",
       "      <td>0</td>\n",
       "      <td>2</td>\n",
       "      <td>140</td>\n",
       "      <td>294</td>\n",
       "      <td>0</td>\n",
       "      <td>2</td>\n",
       "      <td>153</td>\n",
       "      <td>0</td>\n",
       "      <td>1.3</td>\n",
       "      <td>2</td>\n",
       "      <td>0</td>\n",
       "      <td>3</td>\n",
       "      <td>Absence</td>\n",
       "    </tr>\n",
       "    <tr>\n",
       "      <th>268</th>\n",
       "      <td>57</td>\n",
       "      <td>1</td>\n",
       "      <td>4</td>\n",
       "      <td>140</td>\n",
       "      <td>192</td>\n",
       "      <td>0</td>\n",
       "      <td>0</td>\n",
       "      <td>148</td>\n",
       "      <td>0</td>\n",
       "      <td>0.4</td>\n",
       "      <td>2</td>\n",
       "      <td>0</td>\n",
       "      <td>6</td>\n",
       "      <td>Absence</td>\n",
       "    </tr>\n",
       "    <tr>\n",
       "      <th>269</th>\n",
       "      <td>67</td>\n",
       "      <td>1</td>\n",
       "      <td>4</td>\n",
       "      <td>160</td>\n",
       "      <td>286</td>\n",
       "      <td>0</td>\n",
       "      <td>2</td>\n",
       "      <td>108</td>\n",
       "      <td>1</td>\n",
       "      <td>1.5</td>\n",
       "      <td>2</td>\n",
       "      <td>3</td>\n",
       "      <td>3</td>\n",
       "      <td>Presence</td>\n",
       "    </tr>\n",
       "  </tbody>\n",
       "</table>\n",
       "<p>270 rows × 14 columns</p>\n",
       "</div>"
      ],
      "text/plain": [
       "     Age  Sex  Chest pain type   BP  Cholesterol  FBS over 120  EKG results  \\\n",
       "0     70    1                4  130          322             0            2   \n",
       "1     67    0                3  115          564             0            2   \n",
       "2     57    1                2  124          261             0            0   \n",
       "3     64    1                4  128          263             0            0   \n",
       "4     74    0                2  120          269             0            2   \n",
       "..   ...  ...              ...  ...          ...           ...          ...   \n",
       "265   52    1                3  172          199             1            0   \n",
       "266   44    1                2  120          263             0            0   \n",
       "267   56    0                2  140          294             0            2   \n",
       "268   57    1                4  140          192             0            0   \n",
       "269   67    1                4  160          286             0            2   \n",
       "\n",
       "     Max HR  Exercise angina  ST depression  Slope of ST  \\\n",
       "0       109                0            2.4            2   \n",
       "1       160                0            1.6            2   \n",
       "2       141                0            0.3            1   \n",
       "3       105                1            0.2            2   \n",
       "4       121                1            0.2            1   \n",
       "..      ...              ...            ...          ...   \n",
       "265     162                0            0.5            1   \n",
       "266     173                0            0.0            1   \n",
       "267     153                0            1.3            2   \n",
       "268     148                0            0.4            2   \n",
       "269     108                1            1.5            2   \n",
       "\n",
       "     Number of vessels fluro  Thallium Heart Disease  \n",
       "0                          3         3      Presence  \n",
       "1                          0         7       Absence  \n",
       "2                          0         7      Presence  \n",
       "3                          1         7       Absence  \n",
       "4                          1         3       Absence  \n",
       "..                       ...       ...           ...  \n",
       "265                        0         7       Absence  \n",
       "266                        0         7       Absence  \n",
       "267                        0         3       Absence  \n",
       "268                        0         6       Absence  \n",
       "269                        3         3      Presence  \n",
       "\n",
       "[270 rows x 14 columns]"
      ]
     },
     "execution_count": 4,
     "metadata": {},
     "output_type": "execute_result"
    }
   ],
   "source": [
    "df"
   ]
  },
  {
   "cell_type": "code",
   "execution_count": 5,
   "id": "a312a958",
   "metadata": {},
   "outputs": [],
   "source": [
    "X = df.drop(columns=['Heart Disease'])\n",
    "y = df['Heart Disease']"
   ]
  },
  {
   "cell_type": "code",
   "execution_count": 9,
   "id": "f8679462",
   "metadata": {},
   "outputs": [
    {
     "name": "stdout",
     "output_type": "stream",
     "text": [
      "     Age  Sex  Chest pain type   BP  Cholesterol  FBS over 120  EKG results  \\\n",
      "0     70    1                4  130          322             0            2   \n",
      "1     67    0                3  115          564             0            2   \n",
      "2     57    1                2  124          261             0            0   \n",
      "3     64    1                4  128          263             0            0   \n",
      "4     74    0                2  120          269             0            2   \n",
      "..   ...  ...              ...  ...          ...           ...          ...   \n",
      "265   52    1                3  172          199             1            0   \n",
      "266   44    1                2  120          263             0            0   \n",
      "267   56    0                2  140          294             0            2   \n",
      "268   57    1                4  140          192             0            0   \n",
      "269   67    1                4  160          286             0            2   \n",
      "\n",
      "     Max HR  Exercise angina  ST depression  Slope of ST  \\\n",
      "0       109                0            2.4            2   \n",
      "1       160                0            1.6            2   \n",
      "2       141                0            0.3            1   \n",
      "3       105                1            0.2            2   \n",
      "4       121                1            0.2            1   \n",
      "..      ...              ...            ...          ...   \n",
      "265     162                0            0.5            1   \n",
      "266     173                0            0.0            1   \n",
      "267     153                0            1.3            2   \n",
      "268     148                0            0.4            2   \n",
      "269     108                1            1.5            2   \n",
      "\n",
      "     Number of vessels fluro  Thallium  \n",
      "0                          3         3  \n",
      "1                          0         7  \n",
      "2                          0         7  \n",
      "3                          1         7  \n",
      "4                          1         3  \n",
      "..                       ...       ...  \n",
      "265                        0         7  \n",
      "266                        0         7  \n",
      "267                        0         3  \n",
      "268                        0         6  \n",
      "269                        3         3  \n",
      "\n",
      "[270 rows x 13 columns]\n"
     ]
    }
   ],
   "source": [
    "print(X)"
   ]
  },
  {
   "cell_type": "code",
   "execution_count": 10,
   "id": "5cd203e9",
   "metadata": {},
   "outputs": [
    {
     "name": "stdout",
     "output_type": "stream",
     "text": [
      "0      Presence\n",
      "1       Absence\n",
      "2      Presence\n",
      "3       Absence\n",
      "4       Absence\n",
      "         ...   \n",
      "265     Absence\n",
      "266     Absence\n",
      "267     Absence\n",
      "268     Absence\n",
      "269    Presence\n",
      "Name: Heart Disease, Length: 270, dtype: object\n"
     ]
    }
   ],
   "source": [
    "print(y)"
   ]
  },
  {
   "cell_type": "code",
   "execution_count": 11,
   "id": "aaacf135",
   "metadata": {},
   "outputs": [],
   "source": [
    "X_train, X_test, y_train, y_test = train_test_split(X, y, test_size=0.2, random_state=42)"
   ]
  },
  {
   "cell_type": "code",
   "execution_count": 12,
   "id": "bbad56ab",
   "metadata": {},
   "outputs": [],
   "source": [
    "scaler = StandardScaler()\n",
    "X_train = scaler.fit_transform(X_train)\n",
    "X_test = scaler.transform(X_test)\n"
   ]
  },
  {
   "cell_type": "code",
   "execution_count": 13,
   "id": "ac3b6ca3",
   "metadata": {},
   "outputs": [
    {
     "name": "stdout",
     "output_type": "stream",
     "text": [
      "StandardScaler()\n"
     ]
    }
   ],
   "source": [
    "print(scaler)"
   ]
  },
  {
   "cell_type": "code",
   "execution_count": 14,
   "id": "82a68158",
   "metadata": {},
   "outputs": [
    {
     "name": "stdout",
     "output_type": "stream",
     "text": [
      "[[-0.63296991 -1.52416434 -1.21490572 ...  0.66200384 -0.71458405\n",
      "  -0.90541914]\n",
      " [ 0.46519475  0.65609723  0.8432875  ...  2.30559959 -0.71458405\n",
      "   1.15321806]\n",
      " [-0.19370404  0.65609723 -0.18580911 ... -0.98159191  2.4141353\n",
      "  -0.90541914]\n",
      " ...\n",
      " [ 0.24556182 -1.52416434  0.8432875  ... -0.98159191 -0.71458405\n",
      "  -0.90541914]\n",
      " [-0.41333698  0.65609723 -0.18580911 ...  0.66200384 -0.71458405\n",
      "  -0.90541914]\n",
      " [-0.63296991 -1.52416434  0.8432875  ... -0.98159191 -0.71458405\n",
      "  -0.90541914]]\n"
     ]
    }
   ],
   "source": [
    "print(X_train)"
   ]
  },
  {
   "cell_type": "code",
   "execution_count": 15,
   "id": "60d9b5d4",
   "metadata": {},
   "outputs": [
    {
     "name": "stdout",
     "output_type": "stream",
     "text": [
      "[[ 2.45561820e-01  6.56097231e-01 -1.85809110e-01 -2.11259717e-01\n",
      "  -4.12347574e-01 -3.93802252e-01  9.68122770e-01  4.03652951e-02\n",
      "  -7.36788398e-01 -5.93840500e-01  6.62003843e-01  3.28322400e-01\n",
      "   1.15321806e+00]\n",
      " [-9.62419307e-01  6.56097231e-01  8.43287501e-01 -6.59732432e-01\n",
      "  -2.24719952e-02 -3.93802252e-01  9.68122770e-01 -2.22516225e-01\n",
      "  -7.36788398e-01 -2.53377201e-01 -9.81591905e-01 -7.14584048e-01\n",
      "   1.15321806e+00]\n",
      " [ 1.35745354e-01  6.56097231e-01 -1.21490572e+00 -6.59732432e-01\n",
      "  -2.75891121e-01 -3.93802252e-01 -1.04259375e+00  1.26714572e+00\n",
      "  -7.36788398e-01 -2.53377201e-01 -9.81591905e-01 -7.14584048e-01\n",
      "  -9.05419137e-01]\n",
      " [-3.03520510e-01 -1.52416434e+00 -1.85809110e-01  2.37212999e-01\n",
      "  -1.05564228e+00 -3.93802252e-01  9.68122770e-01  8.72823441e-01\n",
      "  -7.36788398e-01 -8.49187974e-01  6.62003843e-01 -7.14584048e-01\n",
      "  -9.05419137e-01]\n",
      " [ 3.55378286e-01 -1.52416434e+00  8.43287501e-01 -1.78091422e+00\n",
      "  -4.19657741e-02 -3.93802252e-01  9.68122770e-01 -1.18641513e+00\n",
      "  -7.36788398e-01 -8.31455510e-02  6.62003843e-01 -7.14584048e-01\n",
      "  -9.05419137e-01]\n",
      " [ 1.35745354e-01  6.56097231e-01  8.43287501e-01 -3.79436985e-01\n",
      "  -2.24719952e-02  2.53934556e+00  9.68122770e-01 -2.22516225e-01\n",
      "   1.35724179e+00  8.70860985e-02  6.62003843e-01  3.28322400e-01\n",
      "  -9.05419137e-01]\n",
      " [-1.95076750e+00  6.56097231e-01 -1.85809110e-01 -9.91415378e-02\n",
      "  -2.97821623e-03 -3.93802252e-01 -1.04259375e+00  1.66146800e+00\n",
      "  -7.36788398e-01  2.04475007e+00  2.30559959e+00 -7.14584048e-01\n",
      "  -9.05419137e-01]\n",
      " [ 3.55378286e-01  6.56097231e-01 -1.85809110e-01  4.61449357e-01\n",
      "  -7.63235594e-01  2.53934556e+00  9.68122770e-01  6.97569094e-01\n",
      "  -7.36788398e-01 -9.34303799e-01 -9.81591905e-01 -7.14584048e-01\n",
      "  -9.05419137e-01]\n",
      " [ 1.35745354e-01  6.56097231e-01 -2.24400233e+00 -6.59732432e-01\n",
      "  -1.11412362e+00 -3.93802252e-01  9.68122770e-01  5.66128335e-01\n",
      "  -7.36788398e-01  6.82896872e-01  6.62003843e-01 -7.14584048e-01\n",
      "   1.15321806e+00]\n",
      " [ 1.12409355e+00 -1.52416434e+00 -1.85809110e-01  1.30233570e+00\n",
      "   3.67403583e-01 -3.93802252e-01 -1.04259375e+00 -4.72618782e-02\n",
      "  -7.36788398e-01 -2.53377201e-01 -9.81591905e-01 -7.14584048e-01\n",
      "  -9.05419137e-01]\n",
      " [-1.40168517e+00 -1.52416434e+00  8.43287501e-01 -1.66879604e+00\n",
      "   2.89428468e-01 -3.93802252e-01  9.68122770e-01 -1.18641513e+00\n",
      "  -7.36788398e-01 -4.23608850e-01  6.62003843e-01 -7.14584048e-01\n",
      "  -9.05419137e-01]\n",
      " [ 2.45561820e-01  6.56097231e-01  8.43287501e-01  4.61449357e-01\n",
      "  -1.13361739e+00 -3.93802252e-01 -1.04259375e+00 -4.72618782e-02\n",
      "  -7.36788398e-01 -5.93840500e-01  6.62003843e-01 -7.14584048e-01\n",
      "   6.38558760e-01]\n",
      " [-1.29186870e+00 -1.52416434e+00  8.43287501e-01  1.29766411e-02\n",
      "   1.77095567e+00  2.53934556e+00  9.68122770e-01 -5.73024918e-01\n",
      "   1.35724179e+00  1.61917094e+00  6.62003843e-01 -7.14584048e-01\n",
      "   1.15321806e+00]\n",
      " [ 3.55378286e-01  6.56097231e-01  8.43287501e-01  1.02204025e+00\n",
      "   3.86897362e-01 -3.93802252e-01  9.68122770e-01 -1.66836458e+00\n",
      "   1.35724179e+00 -2.53377201e-01 -9.81591905e-01 -7.14584048e-01\n",
      "   1.15321806e+00]\n",
      " [ 1.01427708e+00 -1.52416434e+00  8.43287501e-01  2.70381293e+00\n",
      "   1.45905520e+00 -3.93802252e-01 -1.04259375e+00  2.15619642e-01\n",
      "   1.35724179e+00 -9.34303799e-01 -9.81591905e-01 -7.14584048e-01\n",
      "  -9.05419137e-01]\n",
      " [-7.42786375e-01  6.56097231e-01 -1.85809110e-01 -4.35496074e-01\n",
      "   9.44906784e-02  2.53934556e+00 -1.04259375e+00  1.13570496e+00\n",
      "  -7.36788398e-01 -9.34303799e-01 -9.81591905e-01  1.37122885e+00\n",
      "  -9.05419137e-01]\n",
      " [ 7.94644150e-01 -1.52416434e+00 -1.85809110e-01 -9.91415378e-02\n",
      "   2.50440910e-01 -3.93802252e-01 -1.04259375e+00 -2.28175480e+00\n",
      "  -7.36788398e-01  8.70860985e-02  6.62003843e-01  3.28322400e-01\n",
      "   1.15321806e+00]\n",
      " [-3.03520510e-01  6.56097231e-01  8.43287501e-01 -1.10820515e+00\n",
      "  -3.92853795e-01 -3.93802252e-01 -1.04259375e+00  4.78501161e-01\n",
      "  -7.36788398e-01 -9.34303799e-01 -9.81591905e-01  3.28322400e-01\n",
      "  -9.05419137e-01]\n",
      " [ 9.04460616e-01  6.56097231e-01  8.43287501e-01 -9.91415378e-02\n",
      "   7.49968995e-02 -3.93802252e-01  9.68122770e-01 -9.10754648e-02\n",
      "  -7.36788398e-01  2.57317748e-01  6.62003843e-01  3.28322400e-01\n",
      "   1.15321806e+00]\n",
      " [ 2.45561820e-01  6.56097231e-01 -1.85809110e-01  1.02204025e+00\n",
      "  -2.42020680e+00  2.53934556e+00 -1.04259375e+00  1.04807779e+00\n",
      "  -7.36788398e-01 -7.64072149e-01 -9.81591905e-01  3.28322400e-01\n",
      "   1.15321806e+00]\n",
      " [ 1.12409355e+00  6.56097231e-01  8.43287501e-01  1.81153909e-01\n",
      "   7.49968995e-02 -3.93802252e-01  9.68122770e-01 -9.67347197e-01\n",
      "  -7.36788398e-01  1.44893929e+00  6.62003843e-01  3.28322400e-01\n",
      "   1.15321806e+00]\n",
      " [-1.18205224e+00  6.56097231e-01 -1.21490572e+00 -6.59732432e-01\n",
      "   2.50440910e-01 -3.93802252e-01 -1.04259375e+00  1.04807779e+00\n",
      "  -7.36788398e-01 -9.34303799e-01 -9.81591905e-01 -7.14584048e-01\n",
      "   1.15321806e+00]\n",
      " [-6.32969908e-01  6.56097231e-01 -1.85809110e-01 -7.71850611e-01\n",
      "  -1.97184989e+00 -3.93802252e-01  9.68122770e-01 -1.01116078e+00\n",
      "  -7.36788398e-01 -2.53377201e-01 -9.81591905e-01  2.41413530e+00\n",
      "  -9.05419137e-01]\n",
      " [-1.18205224e+00  6.56097231e-01 -1.85809110e-01 -9.91415378e-02\n",
      "  -3.34372458e-01 -3.93802252e-01 -1.04259375e+00  1.31095931e+00\n",
      "   1.35724179e+00 -5.93840500e-01 -9.81591905e-01 -7.14584048e-01\n",
      "  -9.05419137e-01]\n",
      " [-1.29186870e+00  6.56097231e-01 -1.85809110e-01 -9.91415378e-02\n",
      "   1.26411741e+00 -3.93802252e-01 -1.04259375e+00  5.66128335e-01\n",
      "  -7.36788398e-01  6.82896872e-01 -9.81591905e-01  3.28322400e-01\n",
      "  -9.05419137e-01]\n",
      " [ 9.04460616e-01 -1.52416434e+00  8.43287501e-01  1.02204025e+00\n",
      "   3.05754508e+00 -3.93802252e-01  9.68122770e-01  2.15619642e-01\n",
      "  -7.36788398e-01  2.47032919e+00  6.62003843e-01  2.41413530e+00\n",
      "   1.15321806e+00]\n",
      " [-1.29186870e+00  6.56097231e-01  8.43287501e-01 -9.40027879e-01\n",
      "   1.03019207e+00 -3.93802252e-01 -1.04259375e+00  1.39858648e+00\n",
      "  -7.36788398e-01  8.70860985e-02  6.62003843e-01 -7.14584048e-01\n",
      "  -9.05419137e-01]\n",
      " [ 2.44189114e+00  6.56097231e-01  8.43287501e-01 -3.79436985e-01\n",
      "   1.04968585e+00 -3.93802252e-01  9.68122770e-01  5.66128335e-01\n",
      "   1.35724179e+00 -9.34303799e-01 -9.81591905e-01  2.41413530e+00\n",
      "  -9.05419137e-01]\n",
      " [-1.07223577e+00 -1.52416434e+00 -1.21490572e+00 -1.10820515e+00\n",
      "  -1.75741832e+00 -3.93802252e-01 -1.04259375e+00 -4.85397744e-01\n",
      "  -7.36788398e-01 -9.34303799e-01  6.62003843e-01 -7.14584048e-01\n",
      "  -9.05419137e-01]\n",
      " [-8.38875782e-02 -1.52416434e+00 -1.21490572e+00  1.29766411e-02\n",
      "   7.37785383e-01  2.53934556e+00  9.68122770e-01  4.34687575e-01\n",
      "   1.35724179e+00 -9.34303799e-01 -9.81591905e-01  3.28322400e-01\n",
      "  -9.05419137e-01]\n",
      " [-8.38875782e-02 -1.52416434e+00 -1.85809110e-01  1.81153909e-01\n",
      "   1.04968585e+00  2.53934556e+00 -1.04259375e+00  9.16637027e-01\n",
      "  -7.36788398e-01 -9.34303799e-01 -9.81591905e-01 -7.14584048e-01\n",
      "  -9.05419137e-01]\n",
      " [-1.18205224e+00 -1.52416434e+00 -1.85809110e-01 -7.71850611e-01\n",
      "  -1.58928448e-01 -3.93802252e-01 -1.04259375e+00 -3.44829154e-03\n",
      "  -7.36788398e-01 -6.78956324e-01  6.62003843e-01  3.28322400e-01\n",
      "  -9.05419137e-01]\n",
      " [-8.38875782e-02  6.56097231e-01 -1.21490572e+00  3.37652201e+00\n",
      "   6.40316488e-01 -3.93802252e-01  9.68122770e-01  2.01197669e+00\n",
      "  -7.36788398e-01 -9.34303799e-01 -9.81591905e-01  3.28322400e-01\n",
      "   1.15321806e+00]\n",
      " [-2.17040043e+00 -1.52416434e+00  8.43287501e-01  3.49331178e-01\n",
      "  -1.30906140e+00 -3.93802252e-01 -1.04259375e+00  1.44240007e+00\n",
      "  -7.36788398e-01  2.57317748e-01 -9.81591905e-01 -7.14584048e-01\n",
      "  -9.05419137e-01]\n",
      " [-1.18205224e+00  6.56097231e-01  8.43287501e-01 -1.10820515e+00\n",
      "   7.76772941e-01 -3.93802252e-01  9.68122770e-01  1.71806055e-01\n",
      "  -7.36788398e-01 -9.34303799e-01 -9.81591905e-01  3.28322400e-01\n",
      "  -9.05419137e-01]\n",
      " [ 1.35745354e-01  6.56097231e-01 -1.85809110e-01 -9.91415378e-02\n",
      "   1.13984457e-01  2.53934556e+00  9.68122770e-01 -3.10143398e-01\n",
      "   1.35724179e+00 -4.23608850e-01  6.62003843e-01  3.28322400e-01\n",
      "   6.38558760e-01]\n",
      " [-6.32969908e-01  6.56097231e-01 -1.85809110e-01 -6.59732432e-01\n",
      "  -1.21159251e+00 -3.93802252e-01 -1.04259375e+00 -4.41584158e-01\n",
      "  -7.36788398e-01  7.68012696e-01  6.62003843e-01  2.41413530e+00\n",
      "   1.15321806e+00]\n",
      " [ 3.55378286e-01 -1.52416434e+00 -1.21490572e+00  2.37212999e-01\n",
      "   1.34209253e+00  2.53934556e+00  9.68122770e-01  1.27992468e-01\n",
      "  -7.36788398e-01 -9.34303799e-01 -9.81591905e-01  1.37122885e+00\n",
      "  -9.05419137e-01]\n",
      " [ 1.35745354e-01  6.56097231e-01  8.43287501e-01 -9.91415378e-02\n",
      "   6.40316488e-01  2.53934556e+00  9.68122770e-01 -2.01887328e+00\n",
      "   1.35724179e+00  4.27549397e-01  2.30559959e+00 -7.14584048e-01\n",
      "   1.15321806e+00]\n",
      " [ 1.23391001e+00 -1.52416434e+00 -2.24400233e+00  1.02204025e+00\n",
      "  -4.70828910e-01 -3.93802252e-01 -1.04259375e+00 -1.53692382e+00\n",
      "  -7.36788398e-01  1.27870764e+00  2.30559959e+00 -7.14584048e-01\n",
      "  -9.05419137e-01]\n",
      " [-7.42786375e-01 -1.52416434e+00 -1.85809110e-01 -9.91415378e-02\n",
      "   4.84366257e-01 -3.93802252e-01 -1.04259375e+00 -4.41584158e-01\n",
      "  -7.36788398e-01 -7.64072149e-01 -9.81591905e-01 -7.14584048e-01\n",
      "  -9.05419137e-01]\n",
      " [-8.38875782e-02 -1.52416434e+00 -1.85809110e-01  1.58263115e+00\n",
      "  -9.58173384e-01 -3.93802252e-01 -1.04259375e+00  6.09941921e-01\n",
      "  -7.36788398e-01 -9.34303799e-01 -9.81591905e-01  3.28322400e-01\n",
      "  -9.05419137e-01]\n",
      " [-4.13336976e-01 -1.52416434e+00 -1.85809110e-01  4.61449357e-01\n",
      "   1.12766096e+00 -3.93802252e-01  9.68122770e-01 -3.10143398e-01\n",
      "  -7.36788398e-01  3.42433573e-01 -9.81591905e-01  3.28322400e-01\n",
      "  -9.05419137e-01]\n",
      " [-1.62131810e+00  6.56097231e-01 -2.24400233e+00  4.61449357e-01\n",
      "  -9.97160942e-01 -3.93802252e-01 -1.04259375e+00  1.26714572e+00\n",
      "   1.35724179e+00  2.57317748e-01 -9.81591905e-01 -7.14584048e-01\n",
      "   1.15321806e+00]\n",
      " [-1.73113457e+00 -1.52416434e+00 -1.85809110e-01 -2.11726876e+00\n",
      "  -9.97160942e-01 -3.93802252e-01 -1.04259375e+00  1.31095931e+00\n",
      "  -7.36788398e-01 -9.34303799e-01 -9.81591905e-01 -7.14584048e-01\n",
      "  -9.05419137e-01]\n",
      " [ 9.04460616e-01 -1.52416434e+00 -1.85809110e-01  1.81153909e-01\n",
      "   3.60093416e-02 -3.93802252e-01  9.68122770e-01  1.00426420e+00\n",
      "  -7.36788398e-01 -9.34303799e-01 -9.81591905e-01 -7.14584048e-01\n",
      "  -9.05419137e-01]\n",
      " [ 4.65194752e-01  6.56097231e-01 -1.21490572e+00  4.61449357e-01\n",
      "  -5.68297805e-01 -3.93802252e-01 -1.04259375e+00  6.53755508e-01\n",
      "   1.35724179e+00 -9.34303799e-01 -9.81591905e-01 -7.14584048e-01\n",
      "  -9.05419137e-01]\n",
      " [ 1.01427708e+00  6.56097231e-01 -1.85809110e-01 -3.79436985e-01\n",
      "   1.14715474e+00 -3.93802252e-01 -1.04259375e+00 -7.92092851e-01\n",
      "   1.35724179e+00  5.97781047e-01  6.62003843e-01 -7.14584048e-01\n",
      "   1.15321806e+00]\n",
      " [-8.38875782e-02  6.56097231e-01  8.43287501e-01 -1.22032333e+00\n",
      "  -8.60704489e-01 -3.93802252e-01  9.68122770e-01 -1.79980534e+00\n",
      "   1.35724179e+00 -9.34303799e-01  6.62003843e-01  3.28322400e-01\n",
      "  -9.05419137e-01]\n",
      " [-1.40168517e+00  6.56097231e-01 -1.85809110e-01 -6.59732432e-01\n",
      "  -1.97916006e-01  2.53934556e+00 -1.04259375e+00  1.96816311e+00\n",
      "  -7.36788398e-01 -2.53377201e-01  2.30559959e+00 -7.14584048e-01\n",
      "   1.15321806e+00]\n",
      " [ 1.78299234e+00 -1.52416434e+00  8.43287501e-01 -1.10820515e+00\n",
      "  -1.97184989e+00 -3.93802252e-01 -1.04259375e+00 -1.05497437e+00\n",
      "  -7.36788398e-01  4.27549397e-01  6.62003843e-01 -7.14584048e-01\n",
      "  -9.05419137e-01]\n",
      " [-8.38875782e-02 -1.52416434e+00 -1.85809110e-01 -1.33244151e+00\n",
      "   3.28416026e-01 -3.93802252e-01  9.68122770e-01  7.85196268e-01\n",
      "  -7.36788398e-01 -9.34303799e-01 -9.81591905e-01 -7.14584048e-01\n",
      "  -9.05419137e-01]\n",
      " [-1.07223577e+00  6.56097231e-01  8.43287501e-01 -9.40027879e-01\n",
      "   1.91959573e-01 -3.93802252e-01  9.68122770e-01  1.57384083e+00\n",
      "  -7.36788398e-01 -9.34303799e-01 -9.81591905e-01 -7.14584048e-01\n",
      "  -9.05419137e-01]\n",
      " [-8.38875782e-02  6.56097231e-01  8.43287501e-01 -6.59732432e-01\n",
      "  -1.21159251e+00 -3.93802252e-01 -1.04259375e+00 -1.58073741e+00\n",
      "  -7.36788398e-01  2.57317748e-01  6.62003843e-01  3.28322400e-01\n",
      "   1.15321806e+00]]\n"
     ]
    }
   ],
   "source": [
    "print(X_test)"
   ]
  },
  {
   "cell_type": "code",
   "execution_count": 16,
   "id": "10d5253e",
   "metadata": {},
   "outputs": [
    {
     "data": {
      "text/html": [
       "<style>#sk-container-id-1 {color: black;}#sk-container-id-1 pre{padding: 0;}#sk-container-id-1 div.sk-toggleable {background-color: white;}#sk-container-id-1 label.sk-toggleable__label {cursor: pointer;display: block;width: 100%;margin-bottom: 0;padding: 0.3em;box-sizing: border-box;text-align: center;}#sk-container-id-1 label.sk-toggleable__label-arrow:before {content: \"▸\";float: left;margin-right: 0.25em;color: #696969;}#sk-container-id-1 label.sk-toggleable__label-arrow:hover:before {color: black;}#sk-container-id-1 div.sk-estimator:hover label.sk-toggleable__label-arrow:before {color: black;}#sk-container-id-1 div.sk-toggleable__content {max-height: 0;max-width: 0;overflow: hidden;text-align: left;background-color: #f0f8ff;}#sk-container-id-1 div.sk-toggleable__content pre {margin: 0.2em;color: black;border-radius: 0.25em;background-color: #f0f8ff;}#sk-container-id-1 input.sk-toggleable__control:checked~div.sk-toggleable__content {max-height: 200px;max-width: 100%;overflow: auto;}#sk-container-id-1 input.sk-toggleable__control:checked~label.sk-toggleable__label-arrow:before {content: \"▾\";}#sk-container-id-1 div.sk-estimator input.sk-toggleable__control:checked~label.sk-toggleable__label {background-color: #d4ebff;}#sk-container-id-1 div.sk-label input.sk-toggleable__control:checked~label.sk-toggleable__label {background-color: #d4ebff;}#sk-container-id-1 input.sk-hidden--visually {border: 0;clip: rect(1px 1px 1px 1px);clip: rect(1px, 1px, 1px, 1px);height: 1px;margin: -1px;overflow: hidden;padding: 0;position: absolute;width: 1px;}#sk-container-id-1 div.sk-estimator {font-family: monospace;background-color: #f0f8ff;border: 1px dotted black;border-radius: 0.25em;box-sizing: border-box;margin-bottom: 0.5em;}#sk-container-id-1 div.sk-estimator:hover {background-color: #d4ebff;}#sk-container-id-1 div.sk-parallel-item::after {content: \"\";width: 100%;border-bottom: 1px solid gray;flex-grow: 1;}#sk-container-id-1 div.sk-label:hover label.sk-toggleable__label {background-color: #d4ebff;}#sk-container-id-1 div.sk-serial::before {content: \"\";position: absolute;border-left: 1px solid gray;box-sizing: border-box;top: 0;bottom: 0;left: 50%;z-index: 0;}#sk-container-id-1 div.sk-serial {display: flex;flex-direction: column;align-items: center;background-color: white;padding-right: 0.2em;padding-left: 0.2em;position: relative;}#sk-container-id-1 div.sk-item {position: relative;z-index: 1;}#sk-container-id-1 div.sk-parallel {display: flex;align-items: stretch;justify-content: center;background-color: white;position: relative;}#sk-container-id-1 div.sk-item::before, #sk-container-id-1 div.sk-parallel-item::before {content: \"\";position: absolute;border-left: 1px solid gray;box-sizing: border-box;top: 0;bottom: 0;left: 50%;z-index: -1;}#sk-container-id-1 div.sk-parallel-item {display: flex;flex-direction: column;z-index: 1;position: relative;background-color: white;}#sk-container-id-1 div.sk-parallel-item:first-child::after {align-self: flex-end;width: 50%;}#sk-container-id-1 div.sk-parallel-item:last-child::after {align-self: flex-start;width: 50%;}#sk-container-id-1 div.sk-parallel-item:only-child::after {width: 0;}#sk-container-id-1 div.sk-dashed-wrapped {border: 1px dashed gray;margin: 0 0.4em 0.5em 0.4em;box-sizing: border-box;padding-bottom: 0.4em;background-color: white;}#sk-container-id-1 div.sk-label label {font-family: monospace;font-weight: bold;display: inline-block;line-height: 1.2em;}#sk-container-id-1 div.sk-label-container {text-align: center;}#sk-container-id-1 div.sk-container {/* jupyter's `normalize.less` sets `[hidden] { display: none; }` but bootstrap.min.css set `[hidden] { display: none !important; }` so we also need the `!important` here to be able to override the default hidden behavior on the sphinx rendered scikit-learn.org. See: https://github.com/scikit-learn/scikit-learn/issues/21755 */display: inline-block !important;position: relative;}#sk-container-id-1 div.sk-text-repr-fallback {display: none;}</style><div id=\"sk-container-id-1\" class=\"sk-top-container\"><div class=\"sk-text-repr-fallback\"><pre>LogisticRegression(random_state=42)</pre><b>In a Jupyter environment, please rerun this cell to show the HTML representation or trust the notebook. <br />On GitHub, the HTML representation is unable to render, please try loading this page with nbviewer.org.</b></div><div class=\"sk-container\" hidden><div class=\"sk-item\"><div class=\"sk-estimator sk-toggleable\"><input class=\"sk-toggleable__control sk-hidden--visually\" id=\"sk-estimator-id-1\" type=\"checkbox\" checked><label for=\"sk-estimator-id-1\" class=\"sk-toggleable__label sk-toggleable__label-arrow\">LogisticRegression</label><div class=\"sk-toggleable__content\"><pre>LogisticRegression(random_state=42)</pre></div></div></div></div></div>"
      ],
      "text/plain": [
       "LogisticRegression(random_state=42)"
      ]
     },
     "execution_count": 16,
     "metadata": {},
     "output_type": "execute_result"
    }
   ],
   "source": [
    "classifier = LogisticRegression(random_state=42)\n",
    "classifier.fit(X_train, y_train)"
   ]
  },
  {
   "cell_type": "code",
   "execution_count": 17,
   "id": "57628e1f",
   "metadata": {},
   "outputs": [],
   "source": [
    "y_pred = classifier.predict(X_test)"
   ]
  },
  {
   "cell_type": "code",
   "execution_count": 18,
   "id": "fba482a7",
   "metadata": {},
   "outputs": [
    {
     "name": "stdout",
     "output_type": "stream",
     "text": [
      "['Presence' 'Presence' 'Absence' 'Absence' 'Absence' 'Presence' 'Presence'\n",
      " 'Absence' 'Absence' 'Absence' 'Absence' 'Presence' 'Presence' 'Presence'\n",
      " 'Absence' 'Absence' 'Presence' 'Absence' 'Presence' 'Absence' 'Presence'\n",
      " 'Absence' 'Presence' 'Absence' 'Absence' 'Presence' 'Absence' 'Presence'\n",
      " 'Absence' 'Absence' 'Absence' 'Absence' 'Presence' 'Absence' 'Absence'\n",
      " 'Presence' 'Presence' 'Absence' 'Presence' 'Absence' 'Absence' 'Absence'\n",
      " 'Absence' 'Absence' 'Absence' 'Absence' 'Absence' 'Presence' 'Presence'\n",
      " 'Absence' 'Absence' 'Absence' 'Absence' 'Presence']\n"
     ]
    }
   ],
   "source": [
    "print(y_pred )"
   ]
  },
  {
   "cell_type": "code",
   "execution_count": 19,
   "id": "92a234ec",
   "metadata": {},
   "outputs": [],
   "source": [
    "accuracy = accuracy_score(y_test, y_pred)\n",
    "conf_matrix = confusion_matrix(y_test, y_pred)\n",
    "class_report = classification_report(y_test, y_pred)"
   ]
  },
  {
   "cell_type": "code",
   "execution_count": 20,
   "id": "a228f281",
   "metadata": {},
   "outputs": [
    {
     "name": "stdout",
     "output_type": "stream",
     "text": [
      "0.9074074074074074\n"
     ]
    }
   ],
   "source": [
    "print(accuracy)"
   ]
  },
  {
   "cell_type": "code",
   "execution_count": 21,
   "id": "8a2a6b48",
   "metadata": {},
   "outputs": [
    {
     "name": "stdout",
     "output_type": "stream",
     "text": [
      "[[31  2]\n",
      " [ 3 18]]\n"
     ]
    }
   ],
   "source": [
    "print(conf_matrix)"
   ]
  },
  {
   "cell_type": "code",
   "execution_count": 22,
   "id": "3b64c32e",
   "metadata": {},
   "outputs": [
    {
     "name": "stdout",
     "output_type": "stream",
     "text": [
      "              precision    recall  f1-score   support\n",
      "\n",
      "     Absence       0.91      0.94      0.93        33\n",
      "    Presence       0.90      0.86      0.88        21\n",
      "\n",
      "    accuracy                           0.91        54\n",
      "   macro avg       0.91      0.90      0.90        54\n",
      "weighted avg       0.91      0.91      0.91        54\n",
      "\n"
     ]
    }
   ],
   "source": [
    "print(class_report)"
   ]
  },
  {
   "cell_type": "code",
   "execution_count": 24,
   "id": "32072e9c",
   "metadata": {},
   "outputs": [
    {
     "name": "stdout",
     "output_type": "stream",
     "text": [
      "Accuracy: 0.9074074074074074\n"
     ]
    }
   ],
   "source": [
    "print(f'Accuracy: {accuracy}')"
   ]
  },
  {
   "cell_type": "code",
   "execution_count": 25,
   "id": "d14dc6a5",
   "metadata": {},
   "outputs": [
    {
     "name": "stdout",
     "output_type": "stream",
     "text": [
      "Confusion Matrix:\n",
      "[[31  2]\n",
      " [ 3 18]]\n"
     ]
    }
   ],
   "source": [
    "print(f'Confusion Matrix:\\n{conf_matrix}')"
   ]
  },
  {
   "cell_type": "code",
   "execution_count": 26,
   "id": "182d0a3e",
   "metadata": {},
   "outputs": [
    {
     "name": "stdout",
     "output_type": "stream",
     "text": [
      "Classification Report:\n",
      "              precision    recall  f1-score   support\n",
      "\n",
      "     Absence       0.91      0.94      0.93        33\n",
      "    Presence       0.90      0.86      0.88        21\n",
      "\n",
      "    accuracy                           0.91        54\n",
      "   macro avg       0.91      0.90      0.90        54\n",
      "weighted avg       0.91      0.91      0.91        54\n",
      "\n"
     ]
    }
   ],
   "source": [
    "print(f'Classification Report:\\n{class_report}')\n"
   ]
  },
  {
   "cell_type": "code",
   "execution_count": null,
   "id": "a7a6293e",
   "metadata": {},
   "outputs": [],
   "source": []
  }
 ],
 "metadata": {
  "kernelspec": {
   "display_name": "Python 3 (ipykernel)",
   "language": "python",
   "name": "python3"
  },
  "language_info": {
   "codemirror_mode": {
    "name": "ipython",
    "version": 3
   },
   "file_extension": ".py",
   "mimetype": "text/x-python",
   "name": "python",
   "nbconvert_exporter": "python",
   "pygments_lexer": "ipython3",
   "version": "3.11.5"
  }
 },
 "nbformat": 4,
 "nbformat_minor": 5
}
